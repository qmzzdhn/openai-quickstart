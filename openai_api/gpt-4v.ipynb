{
 "cells": [
  {
   "cell_type": "markdown",
   "id": "b4b6a552-b7f0-433d-9a70-61c4fcc52d5d",
   "metadata": {},
   "source": [
    "# 快速入门 GPT-4 Vison\n",
    "\n",
    "从历史上看，语言模型系统仅接受**文本**作为输入。但是单一的输入形式，限制了大模型的应用落地范围。\n",
    "\n",
    "随着技术发展，OpenAI 开发的 GPT-4 Turbo with Vision（简称 GPT-4V）允许模型接收**图像**作为输入，并回答关于它们的问题。\n",
    "\n",
    "📢注意，目前在 Assistants API 中使用 GPT-4 时还不支持图像输入。"
   ]
  },
  {
   "cell_type": "markdown",
   "id": "3a701c56-0a2a-4dea-b458-234150b84ff2",
   "metadata": {},
   "source": [
    "## 使用 GPT-4V 识别线上图像（URL）\n",
    "\n",
    "![image_sample](https://upload.wikimedia.org/wikipedia/commons/thumb/d/dd/Gfp-wisconsin-madison-the-nature-boardwalk.jpg/2560px-Gfp-wisconsin-madison-the-nature-boardwalk.jpg)"
   ]
  },
  {
   "cell_type": "code",
   "execution_count": 4,
   "id": "bf8689b2-94f2-4a35-a332-9ffed0a56aca",
   "metadata": {},
   "outputs": [
    {
     "name": "stdout",
     "output_type": "stream",
     "text": [
      "Choice(finish_reason='stop', index=0, logprobs=None, message=ChatCompletionMessage(content='这幅图展示了一条木制的小路，蜿蜒穿过一片广阔的草地。草地绿意盎然，四周是茂密的植被与树木。天空清澈湛蓝，点缀着几朵轻盈的白云，给人一种宁静祥和的感觉。整个画面充满了自然的美景，阳光照射下，草地显得格外鲜艳。这样的小路仿佛通往未知的远方，给人一种探索和冒险的欲望，同时也让人感受到大自然的宁静与美好。', role='assistant', function_call=None, tool_calls=None))\n"
     ]
    }
   ],
   "source": [
    "from openai import OpenAI\n",
    "\n",
    "client = OpenAI(base_url='https://aigptx.top/v1')\n",
    "\n",
    "response = client.chat.completions.create(\n",
    "  model=\"gpt-4o\",\n",
    "  messages=[\n",
    "    {\n",
    "      \"role\": \"user\",\n",
    "      \"content\": [\n",
    "        {\"type\": \"text\", \"text\": \"介绍下这幅图?\"},\n",
    "        {\n",
    "          \"type\": \"image_url\",\n",
    "          \"image_url\": {\n",
    "            \"url\": \"https://upload.wikimedia.org/wikipedia/commons/thumb/d/dd/Gfp-wisconsin-madison-the-nature-boardwalk.jpg/2560px-Gfp-wisconsin-madison-the-nature-boardwalk.jpg\",\n",
    "          },\n",
    "        },\n",
    "      ],\n",
    "    }\n",
    "  ],\n",
    "  max_tokens=300,\n",
    ")\n",
    "\n",
    "print(response.choices[0])"
   ]
  },
  {
   "cell_type": "code",
   "execution_count": 5,
   "id": "9bcc9026-7485-428f-8269-ea9ae41405cb",
   "metadata": {},
   "outputs": [
    {
     "data": {
      "text/plain": [
       "'这幅图展示了一条木制的小路，蜿蜒穿过一片广阔的草地。草地绿意盎然，四周是茂密的植被与树木。天空清澈湛蓝，点缀着几朵轻盈的白云，给人一种宁静祥和的感觉。整个画面充满了自然的美景，阳光照射下，草地显得格外鲜艳。这样的小路仿佛通往未知的远方，给人一种探索和冒险的欲望，同时也让人感受到大自然的宁静与美好。'"
      ]
     },
     "execution_count": 5,
     "metadata": {},
     "output_type": "execute_result"
    }
   ],
   "source": [
    "response.choices[0].message.content"
   ]
  },
  {
   "cell_type": "markdown",
   "id": "7fb50a14-fa14-4c63-9f81-b98b0f65d9d9",
   "metadata": {},
   "source": [
    "### 封装成一个函数 query_image_description"
   ]
  },
  {
   "cell_type": "code",
   "execution_count": 8,
   "id": "c1ca5428-c7e1-4d7e-91f1-d4a05e95ac51",
   "metadata": {},
   "outputs": [],
   "source": [
    "def query_image_description(url, prompt=\"介绍下这幅图?\"):\n",
    "    client = OpenAI(base_url='https://aigptx.top/v1')  # 初始化 OpenAI 客户端\n",
    "    \n",
    "    # 发送请求给 OpenAI 的聊天模型\n",
    "    response = client.chat.completions.create(\n",
    "        model=\"gpt-4o\",  # 指定使用的模型\n",
    "        messages=[\n",
    "            {\n",
    "                \"role\": \"user\",\n",
    "                \"content\": [\n",
    "                    {\"type\": \"text\", \"text\": prompt},\n",
    "                    {\"type\": \"image_url\", \"image_url\": {\"url\": url}},\n",
    "                ],\n",
    "            }\n",
    "        ],\n",
    "        max_tokens=300,\n",
    "    )\n",
    "    \n",
    "    # 返回模型的响应\n",
    "    return response.choices[0].message.content\n"
   ]
  },
  {
   "cell_type": "markdown",
   "id": "a0d0aceb-7cc5-4da1-b6db-e47716ba145a",
   "metadata": {},
   "source": [
    "### 调用函数测试\n",
    "\n",
    "![meme_0](https://p6.itc.cn/q_70/images03/20200602/0c267a0d3d814c9783659eb956969ba1.jpeg)"
   ]
  },
  {
   "cell_type": "code",
   "execution_count": 10,
   "id": "454abb5c-49d3-42e6-867e-f44e25af5e0e",
   "metadata": {},
   "outputs": [
    {
     "name": "stdout",
     "output_type": "stream",
     "text": [
      "这张图片的搞笑之处在于对比和夸张的表达方式。\n",
      "\n",
      "左边的狗叫“16岁的我”，体格健壮，显示了年轻时充满希望和活力的状态，配文如“我前途一片光明”、“未来可期”、“我身体素质高”、“八九点钟的太阳”，都在表达年轻时的自信与理想。\n",
      "\n",
      "右边的狗叫“工作后的我”，身形发胖或疲惫，显示了经历工作和生活后状态的巨大变化，配文如“好累好困”、“好想睡懒觉”、“我好弱小啊啊啊啊”、“重大伤病不要靠近我啊啊啊”、“我就是普通人”，这些台词都用夸张的方式体现了工作的压力和对生活的无奈，形成鲜明对比。\n",
      "\n",
      "这种对比和反差往往会引起共鸣和幽默感，因为很多人可能在现实生活中也有类似的感受和经历，从而觉得这个对比非常搞笑。\n"
     ]
    }
   ],
   "source": [
    "image_url = \"https://p6.itc.cn/q_70/images03/20200602/0c267a0d3d814c9783659eb956969ba1.jpeg\"\n",
    "content = query_image_description(image_url, prompt='告诉我这图哪里搞笑了')\n",
    "print(content)"
   ]
  },
  {
   "cell_type": "code",
   "execution_count": null,
   "id": "2471306a-84e2-4793-b065-0741fbe57262",
   "metadata": {},
   "outputs": [],
   "source": []
  },
  {
   "cell_type": "code",
   "execution_count": null,
   "id": "af79850f-83b5-49c4-a3f3-f2c01a28f458",
   "metadata": {},
   "outputs": [],
   "source": []
  },
  {
   "cell_type": "markdown",
   "id": "63ae05bd-872c-4638-8259-df4f420aaa1d",
   "metadata": {},
   "source": [
    "### 使用 GPT-4V 识别本地图像文件（Base64编码）\n"
   ]
  },
  {
   "cell_type": "code",
   "execution_count": 4,
   "id": "1e83da68-d387-46da-8236-78fc607d1fab",
   "metadata": {},
   "outputs": [],
   "source": [
    "from openai import OpenAI\n",
    "import base64\n",
    "import requests\n",
    "import json\n",
    "\n",
    "client = OpenAI(base_url='https://aigptx.top/v1')  # 初始化 OpenAI 客户端\n",
    "\n",
    "def query_base64_image_description(image_path, prompt=\"解释下图里的内容？\", max_tokens=1000):\n",
    "\n",
    "    # 实现 Base64 编码\n",
    "    def encode_image(path):\n",
    "        with open(path, \"rb\") as image_file:\n",
    "            return base64.b64encode(image_file.read()).decode('utf-8')\n",
    "\n",
    "    # 获取图像的 Base64 编码字符串\n",
    "    base64_image = encode_image(image_path)\n",
    "\n",
    "    # 构造请求的 HTTP Header\n",
    "    headers = {\n",
    "        \"Content-Type\": \"application/json\",\n",
    "        \"Authorization\": f\"Bearer {client.api_key}\"\n",
    "    }\n",
    "\n",
    "    # 构造请求的负载\n",
    "    payload = {\n",
    "        \"model\": \"gpt-4o\",\n",
    "        \"messages\": [\n",
    "            {\n",
    "                \"role\": \"user\",\n",
    "                \"content\": [\n",
    "                    {\"type\": \"text\", \"text\": prompt},\n",
    "                    {\"type\": \"image_url\", \"image_url\": {\"url\": f\"data:image/jpeg;base64,{base64_image}\"}}\n",
    "                ]\n",
    "            }\n",
    "        ],\n",
    "        \"max_tokens\": max_tokens\n",
    "    }\n",
    "\n",
    "    # 发送 HTTP 请求\n",
    "    response = requests.post(\"https://aigptx.top/v1/chat/completions\", headers=headers, json=payload)\n",
    "\n",
    "    # 检查响应并提取所需的 content 字段\n",
    "    if response.status_code == 200:\n",
    "        response_data = response.json()\n",
    "        content = response_data['choices'][0]['message']['content']\n",
    "        return content\n",
    "    else:\n",
    "        return f\"Error: {response.status_code}, {response.text}\""
   ]
  },
  {
   "cell_type": "markdown",
   "id": "89dd0f99-8086-473f-80a4-497e6dd07c17",
   "metadata": {},
   "source": [
    "#### 使用 Assistants API生成的 GDP 40年对比曲线图\n",
    "\n",
    "![gdp_data](./images/gdp_1980_2020.jpg)"
   ]
  },
  {
   "cell_type": "code",
   "execution_count": 7,
   "id": "3c0e9063-e8d9-4bc1-ae60-ad0aa5bee32b",
   "metadata": {},
   "outputs": [
    {
     "name": "stdout",
     "output_type": "stream",
     "text": [
      "手相学是一门古老的预测学科，通过观察手部的线条、形态和手指的特征来预测个体的性格、健康和未来。需要指出的是，手相学并没有科学依据，仅供娱乐和参考。\n",
      "\n",
      "从这张手掌照片来看，可以观察到几条主要的掌纹，这些掌纹通常包括生命线、智慧线和感情线。以下是这些线的一般含义：\n",
      "\n",
      "1. **生命线（Life Line）**：生命线是环绕拇指的那条弧形线，通常代表寿命、健康和重大生活变化。图中生命线比较明显，并且线条平缓，无明显中断，通常意味着健康状况良好，生命力强。\n",
      "\n",
      "2. **智慧线（Head Line）**：智慧线是从拇指和食指之间开始，横向延伸的那条线。智慧线通常代表一个人的思想能力和决策能力。图中的智慧线比较长且清晰，一般认为这表明该人具有较强的思考能力和决策能力。\n",
      "\n",
      "3. **感情线（Heart Line）**：感情线是从小指下方开始，横向穿过手掌上方的一条线，通常代表感情、爱情和人际关系。图中的感情线较为模糊且不明显，可能表明该人在感情方面较为含蓄或者不太容易表现出来。\n",
      "\n",
      "除了以上三条主要的掌纹，还有一些其他特征也可以观察：\n",
      "\n",
      "- **婚姻线**：位于小指下方，代表婚姻和亲密关系的状况。如果有多条线，可能代表多次恋爱或婚姻。\n",
      "- **太阳线**：在无名指下方，代表名声和财富。如果太阳线清晰，可能预示着良好的事业运或财富运。\n",
      "\n",
      "需要注意的是，手相学解释主要靠的是主观判断，仅供娱乐和参考，不应作为严肃的决策依据。如果有任何关于健康或生活方面的实际困扰，建议咨询相关专业人士。\n"
     ]
    }
   ],
   "source": [
    "content = query_base64_image_description(\"./images/hand.jpg\", prompt='基于手相学，分析图中的手相')\n",
    "print(content)"
   ]
  },
  {
   "cell_type": "markdown",
   "id": "6d18b227-32a6-4450-86bd-c99ad5c533b9",
   "metadata": {},
   "source": [
    "#### 使用 GPT-4V 识别手写体笔记\n",
    "\n",
    "![](./images/gpt-4v.jpg)"
   ]
  },
  {
   "cell_type": "code",
   "execution_count": 9,
   "id": "4193fa11-5edd-404c-9472-0cb8cc6799fc",
   "metadata": {},
   "outputs": [
    {
     "name": "stdout",
     "output_type": "stream",
     "text": [
      "这是一段描写自然景观的文字，内容为唐代文学家柳宗元的《小石潭记》。以下是全文解析：\n",
      "\n",
      "----\n",
      "\n",
      "**小石潭记  唐 柳宗元**\n",
      "\n",
      "从小丘西行百二十步，隔篁竹，闻水声，如鸣珮环，心乐之。伐竹取道，下见小潭，水尤清冽。全石以为底，近岸卷石底以出，为坻，为屿，为嵁，为岩。青树翠蔓，蒙络摇缀，参差披拂。\n",
      "\n",
      "潭中鱼可百许头，皆若空游无所依，日光下彻，影布石上，佁然不动；俶尔远逝，往来翕忽，似与游者相乐。\n",
      "\n",
      "潭西南而望，斗折蛇行，明灭可见。其岸势犬牙差互，不可知其源。\n",
      "\n",
      "坐潭上，四面竹树环合，寂寥无人，凄神寒骨，悄怆幽邃。以其境过清，不可久居，乃记之而去。\n",
      "\n",
      "同游者：吴武陵，龚古，余弟宗玄。隶而从者，崔氏二小生。\n",
      "\n",
      "----\n",
      "\n",
      "**翻译：**\n",
      "\n",
      "从小山丘向西走一百二十步，隔着竹林，听到水声，如同玉佩的声音，心里非常高兴。砍了竹子开道，向下发现一个小潭，水特别清澈。潭底全都是石头，靠近岸边的石头以卷曲的姿态露出水面，形成小沙洲、小岛屿、突出的石块和岩石。青树翠蔓，枝蔓交缠，错落有致地披散开来。潭中的鱼有一百多条，仿佛在空中游动，没有什么依凭。阳光穿透水面，影子映在石头上，静止不动；忽然之间，它们快速游远，来来回回，非常灵动，仿佛在与游人嬉戏。向西南方向望去，溪水曲折蜿蜒，时隐时现。河岸的地势犬牙交错，无法知道溪流的源头。坐在潭边，四周竹林树木环绕，寂静无人，令人心神凄凉，感到寒意入骨，惆怅幽深。因为此处环境过于清冷，不可久留，于是记下这段经历后离去。同游的人有：吴武陵，龚古，弟弟柳宗玄。随行的有：崔氏的两个小童。\n",
      "\n",
      "---\n",
      "\n",
      "这段文字描绘了一个小潭的美丽景色及作者游玩的感受，表达了柳宗元对大自然的热爱和对人文环境的某种深思。\n"
     ]
    }
   ],
   "source": [
    "content = query_base64_image_description(\"./images/gpt-4v.jpg\")\n",
    "print(content)"
   ]
  },
  {
   "cell_type": "markdown",
   "id": "ca046601-018c-455c-ace2-41392cbda456",
   "metadata": {},
   "source": [
    "#### 在 Jupyter 标准输出中渲染 Markdown 格式内容"
   ]
  },
  {
   "cell_type": "code",
   "execution_count": 10,
   "id": "516ee35b-1337-4b22-aea2-ee0adb706098",
   "metadata": {},
   "outputs": [
    {
     "data": {
      "text/markdown": [
       "这是一段描写自然景观的文字，内容为唐代文学家柳宗元的《小石潭记》。以下是全文解析：\n",
       "\n",
       "----\n",
       "\n",
       "**小石潭记  唐 柳宗元**\n",
       "\n",
       "从小丘西行百二十步，隔篁竹，闻水声，如鸣珮环，心乐之。伐竹取道，下见小潭，水尤清冽。全石以为底，近岸卷石底以出，为坻，为屿，为嵁，为岩。青树翠蔓，蒙络摇缀，参差披拂。\n",
       "\n",
       "潭中鱼可百许头，皆若空游无所依，日光下彻，影布石上，佁然不动；俶尔远逝，往来翕忽，似与游者相乐。\n",
       "\n",
       "潭西南而望，斗折蛇行，明灭可见。其岸势犬牙差互，不可知其源。\n",
       "\n",
       "坐潭上，四面竹树环合，寂寥无人，凄神寒骨，悄怆幽邃。以其境过清，不可久居，乃记之而去。\n",
       "\n",
       "同游者：吴武陵，龚古，余弟宗玄。隶而从者，崔氏二小生。\n",
       "\n",
       "----\n",
       "\n",
       "**翻译：**\n",
       "\n",
       "从小山丘向西走一百二十步，隔着竹林，听到水声，如同玉佩的声音，心里非常高兴。砍了竹子开道，向下发现一个小潭，水特别清澈。潭底全都是石头，靠近岸边的石头以卷曲的姿态露出水面，形成小沙洲、小岛屿、突出的石块和岩石。青树翠蔓，枝蔓交缠，错落有致地披散开来。潭中的鱼有一百多条，仿佛在空中游动，没有什么依凭。阳光穿透水面，影子映在石头上，静止不动；忽然之间，它们快速游远，来来回回，非常灵动，仿佛在与游人嬉戏。向西南方向望去，溪水曲折蜿蜒，时隐时现。河岸的地势犬牙交错，无法知道溪流的源头。坐在潭边，四周竹林树木环绕，寂静无人，令人心神凄凉，感到寒意入骨，惆怅幽深。因为此处环境过于清冷，不可久留，于是记下这段经历后离去。同游的人有：吴武陵，龚古，弟弟柳宗玄。随行的有：崔氏的两个小童。\n",
       "\n",
       "---\n",
       "\n",
       "这段文字描绘了一个小潭的美丽景色及作者游玩的感受，表达了柳宗元对大自然的热爱和对人文环境的某种深思。"
      ],
      "text/plain": [
       "<IPython.core.display.Markdown object>"
      ]
     },
     "metadata": {},
     "output_type": "display_data"
    }
   ],
   "source": [
    "from IPython.display import display, Markdown\n",
    "\n",
    "# 使用 display 和 Markdown 函数显示 Markdown 内容\n",
    "display(Markdown(content))"
   ]
  },
  {
   "cell_type": "markdown",
   "id": "b72ebbe3-87cc-4867-9cf0-62e5ed684482",
   "metadata": {},
   "source": [
    "![](./images/handwriting_1.jpg)"
   ]
  },
  {
   "cell_type": "code",
   "execution_count": 12,
   "id": "7c046958-aa7a-4066-88fa-4134869d9226",
   "metadata": {},
   "outputs": [
    {
     "data": {
      "text/markdown": [
       "这张图片展示的是一本笔记本的两页，内容涉及深度学习、特别是关于自然语言处理（NLP）的各种技术和方法。主要讨论了Transformer模型及其改进方法和训练技术。\n",
       "\n",
       "左侧页面的上部标注有“自然语言处理”、“基础”和“评价”，可能是对内容的分类。提到了Transformer模型，并列举了不同的测试标准和指标，如PeFT (“Prompt-based Fine-Tuning”) 和模型性能对比（“Benchmark”）。此外，还提到了不同的方法，如Prompt Tuning和Adapter。具体包括：  \n",
       "- Adapter: 一个2019年Google的研究\n",
       "- Prefix: 代表2021年Stanford的工作\n",
       "- Prompt: 同样是2021年Google的研究\n",
       "- P-Tuning V1和V2：2021年的两种方法\n",
       "- Soft prompts：2021年的研究，提示模板基于模板\n",
       "\n",
       "右侧页面讨论了多模态指令式微调（multi-modality instruction FT）、Llama (3B)、LoRA、PETC（2022年的新技术）等。还有部分文字描述了如何使用prefix-tuning和Adapter方法来细化在大型语言模型（LLMs）中的处理。\n",
       "\n",
       "页面提到了几种语言模型，如：\n",
       "- Llama \n",
       "- BLOOM\n",
       "- ChatGLM \n",
       "- Alpaca\n",
       "\n",
       "这些内容表明这本笔记本的主人正在研究或学习NLP领域的最新技术和方法，特别是如何通过各种微调技术提升已有的大型语言模型的性能。"
      ],
      "text/plain": [
       "<IPython.core.display.Markdown object>"
      ]
     },
     "metadata": {},
     "output_type": "display_data"
    }
   ],
   "source": [
    "content = query_base64_image_description(\"./images/handwriting_1.jpg\")\n",
    "display(Markdown(content))"
   ]
  },
  {
   "cell_type": "code",
   "execution_count": null,
   "id": "156a0f17-cca8-4f01-9ce5-53384b5ffda4",
   "metadata": {},
   "outputs": [],
   "source": []
  },
  {
   "cell_type": "code",
   "execution_count": null,
   "id": "e3bd772f-9492-4f6c-b05a-666b772ca3c9",
   "metadata": {},
   "outputs": [],
   "source": []
  },
  {
   "cell_type": "code",
   "execution_count": null,
   "id": "8afdeacb-aac1-4692-be2b-fb7957ba5e8f",
   "metadata": {},
   "outputs": [],
   "source": []
  },
  {
   "cell_type": "markdown",
   "id": "79a8d459-d98e-4215-9fbf-38ad37080475",
   "metadata": {},
   "source": [
    "## Homework: \n",
    "\n",
    "\n",
    "### #1\n",
    "\n",
    "使用 GPT-4V 识别带有手写体文字的本地图像文件，分享结果。\n",
    "\n",
    "### #2\n",
    "\n",
    "整合 `query_base64_image_description` 函数和 Markdown 格式渲染方法，使得输出结果更易阅读。"
   ]
  },
  {
   "cell_type": "markdown",
   "id": "84e0588a-db1b-4e4f-b0c3-9fc4ee99e507",
   "metadata": {},
   "source": [
    "![](./images/gpt-4v.jpg)"
   ]
  },
  {
   "cell_type": "code",
   "execution_count": 8,
   "id": "f0460446-32bd-45ce-bd73-4cc6ae58002f",
   "metadata": {},
   "outputs": [],
   "source": [
    "from openai import OpenAI\n",
    "import base64\n",
    "import requests\n",
    "import json\n",
    "from IPython.display import display, Markdown\n",
    "\n",
    "client = OpenAI(base_url='https://aigptx.top/v1')  # 初始化 OpenAI 客户端\n",
    "\n",
    "def query_base64_image_description(image_path, prompt=\"解释下图里的内容？\", max_tokens=1000):\n",
    "\n",
    "    # 实现 Base64 编码\n",
    "    def encode_image(path):\n",
    "        with open(path, \"rb\") as image_file:\n",
    "            return base64.b64encode(image_file.read()).decode('utf-8')\n",
    "\n",
    "    # 获取图像的 Base64 编码字符串\n",
    "    base64_image = encode_image(image_path)\n",
    "\n",
    "    # 构造请求的 HTTP Header\n",
    "    headers = {\n",
    "        \"Content-Type\": \"application/json\",\n",
    "        \"Authorization\": f\"Bearer {client.api_key}\"\n",
    "    }\n",
    "\n",
    "    # 构造请求的负载\n",
    "    payload = {\n",
    "        \"model\": \"gpt-4o\",\n",
    "        \"messages\": [\n",
    "            {\n",
    "                \"role\": \"user\",\n",
    "                \"content\": [\n",
    "                    {\"type\": \"text\", \"text\": prompt},\n",
    "                    {\"type\": \"image_url\", \"image_url\": {\"url\": f\"data:image/jpeg;base64,{base64_image}\"}}\n",
    "                ]\n",
    "            }\n",
    "        ],\n",
    "        \"max_tokens\": max_tokens\n",
    "    }\n",
    "\n",
    "    # 发送 HTTP 请求\n",
    "    response = requests.post(\"https://aigptx.top/v1/chat/completions\", headers=headers, json=payload)\n",
    "\n",
    "    # 检查响应并提取所需的 content 字段\n",
    "    if response.status_code == 200:\n",
    "        response_data = response.json()\n",
    "        content = response_data['choices'][0]['message']['content']\n",
    "        return Markdown(content)\n",
    "    else:\n",
    "        return f\"Error: {response.status_code}, {response.text}\""
   ]
  },
  {
   "cell_type": "code",
   "execution_count": 9,
   "id": "f08b8e28-0875-4418-af69-72777f1d81a7",
   "metadata": {},
   "outputs": [
    {
     "data": {
      "text/markdown": [
       "这是一篇手写的古文，文章内容如下：\n",
       "\n",
       "```\n",
       "役小丘西行百二十步隔篁竹闻水声如鸣珮环心乐之伐竹取道下见小潭水尤清冽全石以为底近岸卷石底以出为坻为嵁为岩青树翠蔓蒙络摇缀参差披拂潭中鱼可百许头皆若空游无所依日光下澈影布石上佁然不动俶尔远逝往来翕忽如怵然惊折跃犹可见其脍与游者相乐潭西南而望斗折蛇行明灭可见其脰潭上四面竹树环合寂寥无人凄神寒骨悄怆幽邃以为凡是州之山有异态者皆我有也而未始知西山之怪特无同游者吴武陵醉翁亭记余幼好书古余常游郡城池森林古寺每欲依高僧为飡饭图史消永昼今号怀古余宗言披宗而求之众表而役者凭崖小石潭记\n",
       "\n",
       "知止书\n",
       "```\n",
       "\n",
       "这篇文章为柳宗元的《小石潭记》，描述了作者与朋友游览衡山县西南的小石潭的经历。文章从行进路线、潭水的清澈、石底景象、鱼的活动、周围的植物和环境的寂静等多方面生动地描绘了小石潭的自然景色，表达了作者对自然美景的喜爱及心境的清幽。文章意境优美，文字优雅，是古文中的经典作品之一。"
      ],
      "text/plain": [
       "<IPython.core.display.Markdown object>"
      ]
     },
     "metadata": {},
     "output_type": "display_data"
    }
   ],
   "source": [
    "res = query_base64_image_description(\"./images/gpt-4v.jpg\")\n",
    "display(res)"
   ]
  },
  {
   "cell_type": "code",
   "execution_count": null,
   "id": "d51145de-75a5-4867-85d9-06bfb3ebea76",
   "metadata": {},
   "outputs": [],
   "source": []
  }
 ],
 "metadata": {
  "kernelspec": {
   "display_name": "Python 3 (ipykernel)",
   "language": "python",
   "name": "python3"
  },
  "language_info": {
   "codemirror_mode": {
    "name": "ipython",
    "version": 3
   },
   "file_extension": ".py",
   "mimetype": "text/x-python",
   "name": "python",
   "nbconvert_exporter": "python",
   "pygments_lexer": "ipython3",
   "version": "3.10.14"
  }
 },
 "nbformat": 4,
 "nbformat_minor": 5
}
